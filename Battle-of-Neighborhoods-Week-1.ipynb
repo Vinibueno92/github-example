{
 "cells": [
  {
   "cell_type": "markdown",
   "metadata": {
    "collapsed": true
   },
   "source": [
    "# IBM Data Science Professional Certificate"
   ]
  },
  {
   "cell_type": "markdown",
   "metadata": {},
   "source": [
    "## Capstone Project - The Battle of Neightboorhoods (Week 1)\n",
    "**Work prepared by Vinicius Bueno**"
   ]
  },
  {
   "cell_type": "markdown",
   "metadata": {},
   "source": [
    "## 1. Business Problem"
   ]
  },
  {
   "cell_type": "markdown",
   "metadata": {},
   "source": [
    "Immigration to Canada has been exponenentially growing in the past few decades. Immigration programs such as the Federal Skilled Worker, Express Entry and the Quebec Skilled Worker provide an easy and fast platform for individuals and families who want to start a new life in the Great White North.\n",
    "\n",
    "This huge influx of expats brings people with different cultures, skills, languages and dreams. Some are lucky enough to find job in a related field, others have to subject themselves to blue collar jobs, such as Uber drivers or Starbucks barista, and lastly, a very small portion of immigrants decide to open their own business. This modest portion of immigrants, however, face a big challenge: what should they invest in? Often times, business that are successful in their homeland would go bankrupt in the first year due to culture differences.\n",
    "\n",
    "Following this logic, a simple search on Google for trending business ideas in Canada show that \"hipster stores\" have been growing as never before. One succesful example is Urban Outfitters. They essentially sell everything related to lifestyle, their portfolio includes: women's and men's fashion apparel, footwear, beauty and wellness products, accessories, active-wear and gear, and housewares, as well as music, primarily vinyl records and cassettes. Therefore, opening a business like this one would be a great start to become a successful entrepeneur in Canada.\n",
    "\n",
    "Another point, as important as deciding the niche of your investment, is to chose the right location to open the store. Here, I chose the city of Montreal. Montreal is the most populous municipality in the Canadian province of Quebec and the second-most populous municipality in Canada. Although it was historically the commercial capital of Canada, Montreal was surpassed in population and in economic strength by Toronto in the 1970s. However, it still remains an important centre of commerce, aerospace, transport, finance, pharmaceuticals, technology, design, education, art, culture, tourism, food, fashion, gaming, film, and world affairs. In 2017, Montreal was ranked the 12th most liveable city in the world by the Economist Intelligence Unit in its annual Global Liveability Ranking,and the best city in the world to be a university student in the QS World University Rankings. In summary, it is a vibrant city and not as saturated as Toronto and Vancouver, making it a great city to invest.\n",
    "\n",
    "Montreal, however, is an enormous city. Therefore, one must take time to do research in order to make a more informed decision. The analysis will be carried out as to assisting new investors to make data-driven decisions on the new locations that are most suitable for their new stores in Montreal. These \"hipster stores\" are not considered high-end, thus they are not positioned in upper end of the fast fashion market. As such, they do not seek stores in the premium upmarket strips, but rather, in high traffic areas where consumers go for shopping, restaurants and entertainment. Foursquare data will be very helpful in making data-driven decisions about the best of those areas."
   ]
  },
  {
   "cell_type": "markdown",
   "metadata": {},
   "source": [
    "## 2. Data"
   ]
  },
  {
   "cell_type": "markdown",
   "metadata": {},
   "source": [
    "**Data Requirements**\n",
    "\n",
    "The main districts in Montreal are divided into \"Arrondissements\" and \"Ville liées\", which translates to districts and the \"linked cities\" that make part of the Great Montreal Area.\n",
    "\n",
    "The data regarding the districts in Montreal needs to be researched and a suitable useable source identified. If it is found but is not in a useable form, data wrangling and cleaning will have to be performed.\n",
    "\n",
    "The cleansed data will then be used alongside Foursquare data, which is readily available. Foursquare location data will be leveraged to explore or compare districts around Paris, identifying the high traffic areas where consumers go for shopping, dining and entertainment - the areas where the fashion brand are most interested in opening new stores.\n",
    "\n",
    "**The data processing metholody for for this study includes the following:**\n",
    "\n",
    "- Outline the initial data that is required: \n",
    "\n",
    "    - District data for Montreal including names, location data if available, and any other details required.\n",
    "\n",
    "- Obtain the Data:\n",
    "\n",
    "    - Research and find suitable sources for the district data for Montreal.\n",
    "\n",
    "    - Access and explore the data to determine if it can be manipulated for our purposes.\n",
    "\n",
    "- Initial Data Wrangling and Cleaning:\n",
    "\n",
    "    - Clean the data and convert to a useable form as a dataframe."
   ]
  },
  {
   "cell_type": "markdown",
   "metadata": {},
   "source": [
    "## 3. Data Research"
   ]
  },
  {
   "cell_type": "markdown",
   "metadata": {},
   "source": [
    "A aformentioned, Montreal is divided into \"Arrondissements\" and \"Ville liées\", which translates to districts and the \"linked cities\" that make part of the Great Montreal Area.\n",
    "\n",
    "Data for these districts is necessary to select the most suitable of these areas for new stores.\n",
    "\n",
    "The raw data is for Montreal is pubicly available at <<http://donnees.ville.montreal.qc.ca/dataset/polygones-arrondissements>>, the official website for the city of Montreal. The data, however, is raw and needs to be processed which will be done in Week 2."
   ]
  },
  {
   "cell_type": "code",
   "execution_count": null,
   "metadata": {},
   "outputs": [],
   "source": []
  }
 ],
 "metadata": {
  "kernelspec": {
   "display_name": "Python 3.6",
   "language": "python",
   "name": "python3"
  },
  "language_info": {
   "codemirror_mode": {
    "name": "ipython",
    "version": 3
   },
   "file_extension": ".py",
   "mimetype": "text/x-python",
   "name": "python",
   "nbconvert_exporter": "python",
   "pygments_lexer": "ipython3",
   "version": "3.6.8"
  }
 },
 "nbformat": 4,
 "nbformat_minor": 1
}
